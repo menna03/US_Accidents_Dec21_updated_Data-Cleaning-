{
  "cells": [
    {
      "cell_type": "markdown",
      "metadata": {
        "id": "view-in-github",
        "colab_type": "text"
      },
      "source": [
        "<a href=\"https://colab.research.google.com/github/menna03/US_Accidents_Dec21_updated_Data-Cleaning-/blob/main/US_Accidents_Dec21_updated1.ipynb\" target=\"_parent\"><img src=\"https://colab.research.google.com/assets/colab-badge.svg\" alt=\"Open In Colab\"/></a>"
      ]
    },
    {
      "cell_type": "code",
      "source": [
        "import pandas as pd\n",
        "import numpy as np\n",
        "us = pd.read_csv(\"US_Accidents_Dec21_updated.csv\")"
      ],
      "metadata": {
        "id": "t9Ay6fn20nsy"
      },
      "execution_count": null,
      "outputs": []
    },
    {
      "cell_type": "code",
      "source": [
        "np.round((us.isna().sum()/us.shape[0])*100)"
      ],
      "metadata": {
        "id": "boog_ugT9ZAN",
        "outputId": "13a328e8-21ec-4978-8431-09f1dc3635b0",
        "colab": {
          "base_uri": "https://localhost:8080/"
        }
      },
      "execution_count": null,
      "outputs": [
        {
          "output_type": "execute_result",
          "data": {
            "text/plain": [
              "ID                        0.0\n",
              "Severity                  0.0\n",
              "Start_Time                0.0\n",
              "End_Time                  0.0\n",
              "Start_Lat                 0.0\n",
              "Start_Lng                 0.0\n",
              "End_Lat                   0.0\n",
              "End_Lng                   0.0\n",
              "Distance(mi)              0.0\n",
              "Description               0.0\n",
              "Number                   85.0\n",
              "Street                    0.0\n",
              "Side                      0.0\n",
              "City                      0.0\n",
              "County                    0.0\n",
              "State                     0.0\n",
              "Zipcode                   0.0\n",
              "Country                   0.0\n",
              "Timezone                  0.0\n",
              "Airport_Code              0.0\n",
              "Weather_Timestamp         1.0\n",
              "Temperature(F)            2.0\n",
              "Wind_Chill(F)            86.0\n",
              "Humidity(%)               2.0\n",
              "Pressure(in)              2.0\n",
              "Visibility(mi)            2.0\n",
              "Wind_Direction            1.0\n",
              "Wind_Speed(mph)          16.0\n",
              "Precipitation(in)        93.0\n",
              "Weather_Condition         2.0\n",
              "Amenity                   0.0\n",
              "Bump                      0.0\n",
              "Crossing                  0.0\n",
              "Give_Way                  0.0\n",
              "Junction                  0.0\n",
              "No_Exit                   0.0\n",
              "Railway                   0.0\n",
              "Roundabout                0.0\n",
              "Station                   0.0\n",
              "Stop                      0.0\n",
              "Traffic_Calming           0.0\n",
              "Traffic_Signal            0.0\n",
              "Turning_Loop              0.0\n",
              "Sunrise_Sunset            0.0\n",
              "Civil_Twilight            0.0\n",
              "Nautical_Twilight         0.0\n",
              "Astronomical_Twilight     0.0\n",
              "dtype: float64"
            ]
          },
          "metadata": {},
          "execution_count": 18
        }
      ]
    },
    {
      "cell_type": "markdown",
      "source": [
        "we can see that there are some values that has alot of null values so we will delete it (Number ,Wind_Chill(F) ,Precipitation(in) ) all have more than 30% null"
      ],
      "metadata": {
        "id": "NxZEDuVjE52P"
      }
    },
    {
      "cell_type": "code",
      "source": [
        "del us[\"Number\"]\n",
        "del us[\"Wind_Chill(F)\"]\n",
        "del us[\"Precipitation(in)\"]"
      ],
      "metadata": {
        "id": "52vmhZvAE4NL"
      },
      "execution_count": null,
      "outputs": []
    },
    {
      "cell_type": "code",
      "source": [
        "np.round((us.isna().sum()/us.shape[0])*100)"
      ],
      "metadata": {
        "id": "IxtTrFfEGMQ2",
        "outputId": "afe5deac-ce64-4442-db3a-e39841f51968",
        "colab": {
          "base_uri": "https://localhost:8080/"
        }
      },
      "execution_count": null,
      "outputs": [
        {
          "output_type": "execute_result",
          "data": {
            "text/plain": [
              "ID                        0.0\n",
              "Severity                  0.0\n",
              "Start_Time                0.0\n",
              "End_Time                  0.0\n",
              "Start_Lat                 0.0\n",
              "Start_Lng                 0.0\n",
              "End_Lat                   0.0\n",
              "End_Lng                   0.0\n",
              "Distance(mi)              0.0\n",
              "Description               0.0\n",
              "Street                    0.0\n",
              "Side                      0.0\n",
              "City                      0.0\n",
              "County                    0.0\n",
              "State                     0.0\n",
              "Zipcode                   0.0\n",
              "Country                   0.0\n",
              "Timezone                  0.0\n",
              "Airport_Code              0.0\n",
              "Weather_Timestamp         1.0\n",
              "Temperature(F)            2.0\n",
              "Humidity(%)               2.0\n",
              "Pressure(in)              2.0\n",
              "Visibility(mi)            2.0\n",
              "Wind_Direction            1.0\n",
              "Wind_Speed(mph)          16.0\n",
              "Weather_Condition         2.0\n",
              "Amenity                   0.0\n",
              "Bump                      0.0\n",
              "Crossing                  0.0\n",
              "Give_Way                  0.0\n",
              "Junction                  0.0\n",
              "No_Exit                   0.0\n",
              "Railway                   0.0\n",
              "Roundabout                0.0\n",
              "Station                   0.0\n",
              "Stop                      0.0\n",
              "Traffic_Calming           0.0\n",
              "Traffic_Signal            0.0\n",
              "Turning_Loop              0.0\n",
              "Sunrise_Sunset            0.0\n",
              "Civil_Twilight            0.0\n",
              "Nautical_Twilight         0.0\n",
              "Astronomical_Twilight     0.0\n",
              "dtype: float64"
            ]
          },
          "metadata": {},
          "execution_count": 20
        }
      ]
    },
    {
      "cell_type": "code",
      "source": [
        "rows = us.isna().sum(axis=1)\n",
        "print('we have ', rows[rows >= 12].shape[0], ' rows that contian more than 12 null values')\n",
        "rows[rows >= 12]"
      ],
      "metadata": {
        "id": "-3xgz1a4GubO",
        "outputId": "4efb02be-8ae4-43ca-a33a-276556409107",
        "colab": {
          "base_uri": "https://localhost:8080/"
        }
      },
      "execution_count": null,
      "outputs": [
        {
          "output_type": "stream",
          "name": "stdout",
          "text": [
            "we have  0  rows that contian more than 12 null values\n"
          ]
        },
        {
          "output_type": "execute_result",
          "data": {
            "text/plain": [
              "Series([], dtype: int64)"
            ]
          },
          "metadata": {},
          "execution_count": 21
        }
      ]
    },
    {
      "cell_type": "code",
      "source": [
        "idexes_to_drop = rows[rows >= 12].index\n",
        "df = us.drop(index=idexes_to_drop)"
      ],
      "metadata": {
        "id": "32jw0GhAGx_E"
      },
      "execution_count": null,
      "outputs": []
    },
    {
      "cell_type": "code",
      "source": [
        "us.info()"
      ],
      "metadata": {
        "id": "1I3lXnOI7zbO",
        "outputId": "0158c1b5-c441-4b49-b4ea-d7e5e0e90280",
        "colab": {
          "base_uri": "https://localhost:8080/"
        }
      },
      "execution_count": null,
      "outputs": [
        {
          "output_type": "stream",
          "name": "stdout",
          "text": [
            "<class 'pandas.core.frame.DataFrame'>\n",
            "RangeIndex: 14272 entries, 0 to 14271\n",
            "Data columns (total 44 columns):\n",
            " #   Column                 Non-Null Count  Dtype  \n",
            "---  ------                 --------------  -----  \n",
            " 0   ID                     14272 non-null  object \n",
            " 1   Severity               14272 non-null  int64  \n",
            " 2   Start_Time             14272 non-null  object \n",
            " 3   End_Time               14272 non-null  object \n",
            " 4   Start_Lat              14272 non-null  float64\n",
            " 5   Start_Lng              14272 non-null  float64\n",
            " 6   End_Lat                14272 non-null  float64\n",
            " 7   End_Lng                14272 non-null  float64\n",
            " 8   Distance(mi)           14272 non-null  float64\n",
            " 9   Description            14272 non-null  object \n",
            " 10  Street                 14272 non-null  object \n",
            " 11  Side                   14272 non-null  object \n",
            " 12  City                   14272 non-null  object \n",
            " 13  County                 14272 non-null  object \n",
            " 14  State                  14272 non-null  object \n",
            " 15  Zipcode                14266 non-null  object \n",
            " 16  Country                14272 non-null  object \n",
            " 17  Timezone               14266 non-null  object \n",
            " 18  Airport_Code           14265 non-null  object \n",
            " 19  Weather_Timestamp      14138 non-null  object \n",
            " 20  Temperature(F)         14035 non-null  float64\n",
            " 21  Humidity(%)            14019 non-null  float64\n",
            " 22  Pressure(in)           14042 non-null  float64\n",
            " 23  Visibility(mi)         14000 non-null  float64\n",
            " 24  Wind_Direction         14137 non-null  object \n",
            " 25  Wind_Speed(mph)        11957 non-null  float64\n",
            " 26  Weather_Condition      14027 non-null  object \n",
            " 27  Amenity                14272 non-null  bool   \n",
            " 28  Bump                   14272 non-null  bool   \n",
            " 29  Crossing               14272 non-null  bool   \n",
            " 30  Give_Way               14272 non-null  bool   \n",
            " 31  Junction               14272 non-null  bool   \n",
            " 32  No_Exit                14272 non-null  bool   \n",
            " 33  Railway                14272 non-null  bool   \n",
            " 34  Roundabout             14272 non-null  bool   \n",
            " 35  Station                14272 non-null  bool   \n",
            " 36  Stop                   14272 non-null  bool   \n",
            " 37  Traffic_Calming        14272 non-null  bool   \n",
            " 38  Traffic_Signal         14272 non-null  bool   \n",
            " 39  Turning_Loop           14272 non-null  bool   \n",
            " 40  Sunrise_Sunset         14272 non-null  object \n",
            " 41  Civil_Twilight         14272 non-null  object \n",
            " 42  Nautical_Twilight      14272 non-null  object \n",
            " 43  Astronomical_Twilight  14271 non-null  object \n",
            "dtypes: bool(13), float64(10), int64(1), object(20)\n",
            "memory usage: 3.6+ MB\n"
          ]
        }
      ]
    },
    {
      "cell_type": "code",
      "source": [
        "us[\"ID\"]=us[\"ID\"].apply(lambda x: x[2:])\n",
        "# we remove the A- from the list "
      ],
      "metadata": {
        "id": "e8fn12YMTelN"
      },
      "execution_count": null,
      "outputs": []
    },
    {
      "cell_type": "code",
      "source": [
        "us[\"ID\"]"
      ],
      "metadata": {
        "outputId": "3d57eb91-04b4-4847-e472-d96eb43d0a69",
        "colab": {
          "base_uri": "https://localhost:8080/"
        },
        "id": "QbS9w9VhKnWn"
      },
      "execution_count": null,
      "outputs": [
        {
          "output_type": "execute_result",
          "data": {
            "text/plain": [
              "0            1\n",
              "1            2\n",
              "2            3\n",
              "3            4\n",
              "4            5\n",
              "         ...  \n",
              "14267    14268\n",
              "14268    14269\n",
              "14269    14270\n",
              "14270    14271\n",
              "14271    14272\n",
              "Name: ID, Length: 14272, dtype: object"
            ]
          },
          "metadata": {},
          "execution_count": 25
        }
      ]
    },
    {
      "cell_type": "markdown",
      "source": [
        "so we can see that the ID needed to be corrected and we will  remove A- from it \n",
        "and most of the other data is corecct \n",
        "but we can see that there are some data has a ########### in it and we don't need it so we will delete this columns(Start_Time,End_Time)"
      ],
      "metadata": {
        "id": "K0lwznQmPhZb"
      }
    },
    {
      "cell_type": "code",
      "source": [
        "del us[\"Start_Time\"]\n",
        "del us[\"End_Time\"]\n",
        "del us[\"Weather_Timestamp\"]"
      ],
      "metadata": {
        "id": "nsb3h3FdQRoc"
      },
      "execution_count": null,
      "outputs": []
    },
    {
      "cell_type": "code",
      "source": [
        "us.columns "
      ],
      "metadata": {
        "id": "6latO1DdQ_Fh",
        "outputId": "b970da1b-2db2-41e2-ce3f-7c872348673e",
        "colab": {
          "base_uri": "https://localhost:8080/"
        }
      },
      "execution_count": null,
      "outputs": [
        {
          "output_type": "execute_result",
          "data": {
            "text/plain": [
              "Index(['ID', 'Severity', 'Start_Lat', 'Start_Lng', 'End_Lat', 'End_Lng',\n",
              "       'Distance(mi)', 'Description', 'Street', 'Side', 'City', 'County',\n",
              "       'State', 'Zipcode', 'Country', 'Timezone', 'Airport_Code',\n",
              "       'Temperature(F)', 'Humidity(%)', 'Pressure(in)', 'Visibility(mi)',\n",
              "       'Wind_Direction', 'Wind_Speed(mph)', 'Weather_Condition', 'Amenity',\n",
              "       'Bump', 'Crossing', 'Give_Way', 'Junction', 'No_Exit', 'Railway',\n",
              "       'Roundabout', 'Station', 'Stop', 'Traffic_Calming', 'Traffic_Signal',\n",
              "       'Turning_Loop', 'Sunrise_Sunset', 'Civil_Twilight', 'Nautical_Twilight',\n",
              "       'Astronomical_Twilight'],\n",
              "      dtype='object')"
            ]
          },
          "metadata": {},
          "execution_count": 27
        }
      ]
    },
    {
      "cell_type": "code",
      "source": [
        "us[\"Temperature(F)\"] = us[\"Temperature(F)\"].apply(lambda x: x if type(x) != type('') else int(x.replace('61.793555921 ', '')))\n",
        "us[ \"Pressure(in)\"] = us[ \"Pressure(in)\"].apply(lambda x: x if type(x) != type('') else int(x.replace('29.472 ', '')))\n",
        "us[\"Visibility(mi)\"] = us[\"Visibility(mi)\"].apply(lambda x: x if type(x) != type('') else int(x.replace('9.09 ', '')))\n",
        "us[ \"Wind_Speed(mph)\"] = us[ \"Wind_Speed(mph)\"].apply(lambda x: x if type(x) != type('') else int(x.replace('7.39 ', '')))"
      ],
      "metadata": {
        "id": "U4dMfSaes-Hf"
      },
      "execution_count": null,
      "outputs": []
    },
    {
      "cell_type": "code",
      "source": [
        "import seaborn as sns\n",
        "import matplotlib.pyplot as plt"
      ],
      "metadata": {
        "id": "ZBAWCJ4ETH99"
      },
      "execution_count": null,
      "outputs": []
    },
    {
      "cell_type": "code",
      "source": [
        "cols = ['Distance(mi)',\"Temperature(F)\",\"Humidity(%)\",\"Pressure(in)\",\"Visibility(mi)\",\"Wind_Speed(mph)\"]\n",
        "for col in cols:\n",
        "    sns.boxplot(data=us, x=col)\n",
        "    plt.show()"
      ],
      "metadata": {
        "id": "H4MopxDfSnL8",
        "outputId": "107d40af-8378-48c6-9340-902e91343b2a",
        "colab": {
          "base_uri": "https://localhost:8080/",
          "height": 1000
        }
      },
      "execution_count": null,
      "outputs": [
        {
          "output_type": "display_data",
          "data": {
            "text/plain": [
              "<Figure size 432x288 with 1 Axes>"
            ],
            "image/png": "[encoded data removed]"
          },
          "metadata": {
            "needs_background": "light"
          }
        },
        {
          "output_type": "display_data",
          "data": {
            "text/plain": [
              "<Figure size 432x288 with 1 Axes>"
            ],
            "image/png": "[encoded data removed]"
          },
          "metadata": {
            "needs_background": "light"
          }
        },
        {
          "output_type": "display_data",
          "data": {
            "text/plain": [
              "<Figure size 432x288 with 1 Axes>"
            ],
            "image/png": "[encoded data removed]"
          },
          "metadata": {
            "needs_background": "light"
          }
        },
        {
          "output_type": "display_data",
          "data": {
            "text/plain": [
              "<Figure size 432x288 with 1 Axes>"
            ],
            "image/png": "[encoded data removed]"
          },
          "metadata": {
            "needs_background": "light"
          }
        },
        {
          "output_type": "display_data",
          "data": {
            "text/plain": [
              "<Figure size 432x288 with 1 Axes>"
            ],
            "image/png": "[encoded data removed]"
          },
          "metadata": {
            "needs_background": "light"
          }
        },
        {
          "output_type": "display_data",
          "data": {
            "text/plain": [
              "<Figure size 432x288 with 1 Axes>"
            ],
            "image/png": "[encoded data removed]"
          },
          "metadata": {
            "needs_background": "light"
          }
        },
        {
          "output_type": "display_data",
          "data": {
            "text/plain": [
              "<Figure size 432x288 with 1 Axes>"
            ],
            "image/png": "[encoded data removed]"
          },
          "metadata": {
            "needs_background": "light"
          }
        },
        {
          "output_type": "display_data",
          "data": {
            "text/plain": [
              "<Figure size 432x288 with 1 Axes>"
            ],
            "image/png": "[encoded data removed]"
          },
          "metadata": {
            "needs_background": "light"
          }
        },
        {
          "output_type": "display_data",
          "data": {
            "text/plain": [
              "<Figure size 432x288 with 1 Axes>"
            ],
            "image/png": "[encoded data removed]"
          },
          "metadata": {
            "needs_background": "light"
          }
        },
        {
          "output_type": "display_data",
          "data": {
            "text/plain": [
              "<Figure size 432x288 with 1 Axes>"
            ],
            "image/png": "[encoded data removed]"
          },
          "metadata": {
            "needs_background": "light"
          }
        }
      ]
    },
    {
      "cell_type": "markdown",
      "source": [
        "as we can see that most data has alot of outliers ( 'Distance(mi)',\"Temperature(F)\",\"Pressure(in)\",\"Visibility(mi)\",\"Wind_Speed(mph)\")istane so we will use  quartiles"
      ],
      "metadata": {
        "id": "PiUyyLtGURfD"
      }
    },
    {
      "cell_type": "code",
      "source": [
        "us.describe()"
      ],
      "metadata": {
        "id": "QbRckoRVbhiA",
        "outputId": "a27b4de6-1638-4154-cf0a-c8c71d65b784",
        "colab": {
          "base_uri": "https://localhost:8080/",
          "height": 344
        }
      },
      "execution_count": null,
      "outputs": [
        {
          "output_type": "execute_result",
          "data": {
            "text/plain": [
              "           Severity     Start_Lat     Start_Lng       End_Lat       End_Lng  \\\n",
              "count  14272.000000  14272.000000  14272.000000  14272.000000  14272.000000   \n",
              "mean       2.258268     35.852564   -112.769367     35.852658   -112.769223   \n",
              "std        0.546873      3.117609     12.266673      3.117727     12.267008   \n",
              "min        2.000000     27.970969   -123.526160     27.971260   -123.526160   \n",
              "25%        2.000000     33.881810   -121.379716     33.881422   -121.379567   \n",
              "50%        2.000000     34.178890   -118.097240     34.181125   -118.098300   \n",
              "75%        2.000000     37.931180   -116.856762     37.932377   -116.853560   \n",
              "max        4.000000     48.005390    -80.005270     47.995395    -79.958150   \n",
              "\n",
              "       Distance(mi)  Temperature(F)   Humidity(%)  Pressure(in)  \\\n",
              "count  14272.000000    14035.000000  14019.000000  14042.000000   \n",
              "mean       0.616808       60.199266     59.908410     29.981374   \n",
              "std        1.891907       16.788112     20.713394      0.219584   \n",
              "min        0.000000      -18.000000      4.000000     20.670000   \n",
              "25%        0.160000       55.400000     46.000000     29.890000   \n",
              "50%        0.387000       63.000000     61.000000     29.970000   \n",
              "75%        0.606000       69.800000     75.000000     30.060000   \n",
              "max      150.138000      111.900000    100.000000     30.860000   \n",
              "\n",
              "       Visibility(mi)  Wind_Speed(mph)  \n",
              "count    14000.000000     11957.000000  \n",
              "mean         9.298493         9.501313  \n",
              "std          2.463743        11.520965  \n",
              "min          0.000000         0.000000  \n",
              "25%         10.000000         5.800000  \n",
              "50%         10.000000         9.200000  \n",
              "75%         10.000000        11.500000  \n",
              "max         70.000000       822.800000  "
            ],
            "text/html": [
              "\n",
              "  <div id=\"df-6e7808d8-92f2-44ec-807f-7534188456ba\">\n",
              "    <div class=\"colab-df-container\">\n",
              "      <div>\n",
              "<style scoped>\n",
              "    .dataframe tbody tr th:only-of-type {\n",
              "        vertical-align: middle;\n",
              "    }\n",
              "\n",
              "    .dataframe tbody tr th {\n",
              "        vertical-align: top;\n",
              "    }\n",
              "\n",
              "    .dataframe thead th {\n",
              "        text-align: right;\n",
              "    }\n",
              "</style>\n",
              "<table border=\"1\" class=\"dataframe\">\n",
              "  <thead>\n",
              "    <tr style=\"text-align: right;\">\n",
              "      <th></th>\n",
              "      <th>Severity</th>\n",
              "      <th>Start_Lat</th>\n",
              "      <th>Start_Lng</th>\n",
              "      <th>End_Lat</th>\n",
              "      <th>End_Lng</th>\n",
              "      <th>Distance(mi)</th>\n",
              "      <th>Temperature(F)</th>\n",
              "      <th>Humidity(%)</th>\n",
              "      <th>Pressure(in)</th>\n",
              "      <th>Visibility(mi)</th>\n",
              "      <th>Wind_Speed(mph)</th>\n",
              "    </tr>\n",
              "  </thead>\n",
              "  <tbody>\n",
              "    <tr>\n",
              "      <th>count</th>\n",
              "      <td>14272.000000</td>\n",
              "      <td>14272.000000</td>\n",
              "      <td>14272.000000</td>\n",
              "      <td>14272.000000</td>\n",
              "      <td>14272.000000</td>\n",
              "      <td>14272.000000</td>\n",
              "      <td>14035.000000</td>\n",
              "      <td>14019.000000</td>\n",
              "      <td>14042.000000</td>\n",
              "      <td>14000.000000</td>\n",
              "      <td>11957.000000</td>\n",
              "    </tr>\n",
              "    <tr>\n",
              "      <th>mean</th>\n",
              "      <td>2.258268</td>\n",
              "      <td>35.852564</td>\n",
              "      <td>-112.769367</td>\n",
              "      <td>35.852658</td>\n",
              "      <td>-112.769223</td>\n",
              "      <td>0.616808</td>\n",
              "      <td>60.199266</td>\n",
              "      <td>59.908410</td>\n",
              "      <td>29.981374</td>\n",
              "      <td>9.298493</td>\n",
              "      <td>9.501313</td>\n",
              "    </tr>\n",
              "    <tr>\n",
              "      <th>std</th>\n",
              "      <td>0.546873</td>\n",
              "      <td>3.117609</td>\n",
              "      <td>12.266673</td>\n",
              "      <td>3.117727</td>\n",
              "      <td>12.267008</td>\n",
              "      <td>1.891907</td>\n",
              "      <td>16.788112</td>\n",
              "      <td>20.713394</td>\n",
              "      <td>0.219584</td>\n",
              "      <td>2.463743</td>\n",
              "      <td>11.520965</td>\n",
              "    </tr>\n",
              "    <tr>\n",
              "      <th>min</th>\n",
              "      <td>2.000000</td>\n",
              "      <td>27.970969</td>\n",
              "      <td>-123.526160</td>\n",
              "      <td>27.971260</td>\n",
              "      <td>-123.526160</td>\n",
              "      <td>0.000000</td>\n",
              "      <td>-18.000000</td>\n",
              "      <td>4.000000</td>\n",
              "      <td>20.670000</td>\n",
              "      <td>0.000000</td>\n",
              "      <td>0.000000</td>\n",
              "    </tr>\n",
              "    <tr>\n",
              "      <th>25%</th>\n",
              "      <td>2.000000</td>\n",
              "      <td>33.881810</td>\n",
              "      <td>-121.379716</td>\n",
              "      <td>33.881422</td>\n",
              "      <td>-121.379567</td>\n",
              "      <td>0.160000</td>\n",
              "      <td>55.400000</td>\n",
              "      <td>46.000000</td>\n",
              "      <td>29.890000</td>\n",
              "      <td>10.000000</td>\n",
              "      <td>5.800000</td>\n",
              "    </tr>\n",
              "    <tr>\n",
              "      <th>50%</th>\n",
              "      <td>2.000000</td>\n",
              "      <td>34.178890</td>\n",
              "      <td>-118.097240</td>\n",
              "      <td>34.181125</td>\n",
              "      <td>-118.098300</td>\n",
              "      <td>0.387000</td>\n",
              "      <td>63.000000</td>\n",
              "      <td>61.000000</td>\n",
              "      <td>29.970000</td>\n",
              "      <td>10.000000</td>\n",
              "      <td>9.200000</td>\n",
              "    </tr>\n",
              "    <tr>\n",
              "      <th>75%</th>\n",
              "      <td>2.000000</td>\n",
              "      <td>37.931180</td>\n",
              "      <td>-116.856762</td>\n",
              "      <td>37.932377</td>\n",
              "      <td>-116.853560</td>\n",
              "      <td>0.606000</td>\n",
              "      <td>69.800000</td>\n",
              "      <td>75.000000</td>\n",
              "      <td>30.060000</td>\n",
              "      <td>10.000000</td>\n",
              "      <td>11.500000</td>\n",
              "    </tr>\n",
              "    <tr>\n",
              "      <th>max</th>\n",
              "      <td>4.000000</td>\n",
              "      <td>48.005390</td>\n",
              "      <td>-80.005270</td>\n",
              "      <td>47.995395</td>\n",
              "      <td>-79.958150</td>\n",
              "      <td>150.138000</td>\n",
              "      <td>111.900000</td>\n",
              "      <td>100.000000</td>\n",
              "      <td>30.860000</td>\n",
              "      <td>70.000000</td>\n",
              "      <td>822.800000</td>\n",
              "    </tr>\n",
              "  </tbody>\n",
              "</table>\n",
              "</div>\n",
              "      <button class=\"colab-df-convert\" onclick=\"convertToInteractive('df-6e7808d8-92f2-44ec-807f-7534188456ba')\"\n",
              "              title=\"Convert this dataframe to an interactive table.\"\n",
              "              style=\"display:none;\">\n",
              "        \n",
              "  <svg xmlns=\"http://www.w3.org/2000/svg\" height=\"24px\"viewBox=\"0 0 24 24\"\n",
              "       width=\"24px\">\n",
              "    <path d=\"M0 0h24v24H0V0z\" fill=\"none\"/>\n",
              "    <path d=\"M18.56 5.44l.94 2.06.94-2.06 2.06-.94-2.06-.94-.94-2.06-.94 2.06-2.06.94zm-11 1L8.5 8.5l.94-2.06 2.06-.94-2.06-.94L8.5 2.5l-.94 2.06-2.06.94zm10 10l.94 2.06.94-2.06 2.06-.94-2.06-.94-.94-2.06-.94 2.06-2.06.94z\"/><path d=\"M17.41 7.96l-1.37-1.37c-.4-.4-.92-.59-1.43-.59-.52 0-1.04.2-1.43.59L10.3 9.45l-7.72 7.72c-.78.78-.78 2.05 0 2.83L4 21.41c.39.39.9.59 1.41.59.51 0 1.02-.2 1.41-.59l7.78-7.78 2.81-2.81c.8-.78.8-2.07 0-2.86zM5.41 20L4 18.59l7.72-7.72 1.47 1.35L5.41 20z\"/>\n",
              "  </svg>\n",
              "      </button>\n",
              "      \n",
              "  <style>\n",
              "    .colab-df-container {\n",
              "      display:flex;\n",
              "      flex-wrap:wrap;\n",
              "      gap: 12px;\n",
              "    }\n",
              "\n",
              "    .colab-df-convert {\n",
              "      background-color: #E8F0FE;\n",
              "      border: none;\n",
              "      border-radius: 50%;\n",
              "      cursor: pointer;\n",
              "      display: none;\n",
              "      fill: #1967D2;\n",
              "      height: 32px;\n",
              "      padding: 0 0 0 0;\n",
              "      width: 32px;\n",
              "    }\n",
              "\n",
              "    .colab-df-convert:hover {\n",
              "      background-color: #E2EBFA;\n",
              "      box-shadow: 0px 1px 2px rgba(60, 64, 67, 0.3), 0px 1px 3px 1px rgba(60, 64, 67, 0.15);\n",
              "      fill: #174EA6;\n",
              "    }\n",
              "\n",
              "    [theme=dark] .colab-df-convert {\n",
              "      background-color: #3B4455;\n",
              "      fill: #D2E3FC;\n",
              "    }\n",
              "\n",
              "    [theme=dark] .colab-df-convert:hover {\n",
              "      background-color: #434B5C;\n",
              "      box-shadow: 0px 1px 3px 1px rgba(0, 0, 0, 0.15);\n",
              "      filter: drop-shadow(0px 1px 2px rgba(0, 0, 0, 0.3));\n",
              "      fill: #FFFFFF;\n",
              "    }\n",
              "  </style>\n",
              "\n",
              "      <script>\n",
              "        const buttonEl =\n",
              "          document.querySelector('#df-6e7808d8-92f2-44ec-807f-7534188456ba button.colab-df-convert');\n",
              "        buttonEl.style.display =\n",
              "          google.colab.kernel.accessAllowed ? 'block' : 'none';\n",
              "\n",
              "        async function convertToInteractive(key) {\n",
              "          const element = document.querySelector('#df-6e7808d8-92f2-44ec-807f-7534188456ba');\n",
              "          const dataTable =\n",
              "            await google.colab.kernel.invokeFunction('convertToInteractive',\n",
              "                                                     [key], {});\n",
              "          if (!dataTable) return;\n",
              "\n",
              "          const docLinkHtml = 'Like what you see? Visit the ' +\n",
              "            '<a target=\"_blank\" href=https://colab.research.google.com/notebooks/data_table.ipynb>data table notebook</a>'\n",
              "            + ' to learn more about interactive tables.';\n",
              "          element.innerHTML = '';\n",
              "          dataTable['output_type'] = 'display_data';\n",
              "          await google.colab.output.renderOutput(dataTable, element);\n",
              "          const docLink = document.createElement('div');\n",
              "          docLink.innerHTML = docLinkHtml;\n",
              "          element.appendChild(docLink);\n",
              "        }\n",
              "      </script>\n",
              "    </div>\n",
              "  </div>\n",
              "  "
            ]
          },
          "metadata": {},
          "execution_count": 31
        }
      ]
    },
    {
      "cell_type": "code",
      "source": [
        "q75, q25 = np.percentile(us.loc[:, \"Visibility(mi)\"], [75, 25])\n",
        "intr_qr = q75 - q25\n",
        "\n",
        "max = q75 + (1.5 * intr_qr)\n",
        "min = q25 - (1.5 * intr_qr)\n",
        "\n",
        "quartiles_us1 = df.copy()\n",
        "quartiles_us1.loc[quartiles_us1[\"Visibility(mi)\"] < min, \"Visibility(mi)\"] = np.nan\n",
        "quartiles_us1.loc[quartiles_us1[\"Visibility(mi)\"] > max,\"Visibility(mi)\"] = np.nan\n",
        "quartiles_us1 = quartiles_us1.dropna()\n",
        "sns.boxplot(data=quartiles_us1, x= \"Visibility(mi)\")"
      ],
      "metadata": {
        "id": "WftYi5G54LUS",
        "colab": {
          "base_uri": "https://localhost:8080/",
          "height": 297
        },
        "outputId": "1dab3963-63fa-4238-b650-e90d29389168"
      },
      "execution_count": null,
      "outputs": [
        {
          "output_type": "execute_result",
          "data": {
            "text/plain": [
              "<matplotlib.axes._subplots.AxesSubplot at 0x7fb192efda10>"
            ]
          },
          "metadata": {},
          "execution_count": 36
        },
        {
          "output_type": "display_data",
          "data": {
            "text/plain": [
              "<Figure size 432x288 with 1 Axes>"
            ],
            "image/png": "[encoded data removed]"
          },
          "metadata": {
            "needs_background": "light"
          }
        }
      ]
    },
    {
      "cell_type": "code",
      "source": [
        "sns.boxplot(data=quartiles_us1, x= \"Visibility(mi)\")\n"
      ],
      "metadata": {
        "id": "RSIR49VCmc0S",
        "outputId": "b633838d-c77e-485f-f57c-35135ed03c20",
        "colab": {
          "base_uri": "https://localhost:8080/",
          "height": 297
        }
      },
      "execution_count": null,
      "outputs": [
        {
          "output_type": "execute_result",
          "data": {
            "text/plain": [
              "<matplotlib.axes._subplots.AxesSubplot at 0x7fb192826c90>"
            ]
          },
          "metadata": {},
          "execution_count": 35
        },
        {
          "output_type": "display_data",
          "data": {
            "text/plain": [
              "<Figure size 432x288 with 1 Axes>"
            ],
            "image/png": "[encoded data removed]"
          },
          "metadata": {
            "needs_background": "light"
          }
        }
      ]
    },
    {
      "cell_type": "markdown",
      "source": [
        "now we can get an accurate number of /accidents in the US/ and we dropped the distance because there was an extreme value and the deistance affect the data "
      ],
      "metadata": {
        "id": "yZ8yOLeW2eht"
      }
    },
    {
      "cell_type": "code",
      "source": [
        "q75, q25 = np.percentile(us.loc[:, \"Visibility(mi)\"], [75, 25])\n",
        "intr_qr = q75 - q25\n",
        "\n",
        "max = q75 + (1.5 * intr_qr)\n",
        "min = q25 - (1.5 * intr_qr)\n",
        "\n",
        "quartiles_us1 = df.copy()\n",
        "quartiles_us1.loc[quartiles_us1['Distance(mi)'] < min, 'Distance(mi)'] = np.nan\n",
        "quartiles_us1.loc[quartiles_us1['Distance(mi)'] > max, 'Distance(mi)'] = np.nan\n",
        "quartiles_us1 = quartiles_us1.dropna()"
      ],
      "metadata": {
        "id": "GX1IaJYqC2ep"
      },
      "execution_count": null,
      "outputs": []
    },
    {
      "cell_type": "code",
      "source": [
        "us.describe()"
      ],
      "metadata": {
        "id": "dkm4Ux9LrUk9"
      },
      "execution_count": null,
      "outputs": []
    },
    {
      "cell_type": "markdown",
      "source": [
        "Now we can conclued any thing we want from the data "
      ],
      "metadata": {
        "id": "JnqaKw0r4mnW"
      }
    }
  ],
  "metadata": {
    "colab": {
      "provenance": [],
      "include_colab_link": true
    },
    "kernelspec": {
      "display_name": "Python 3",
      "name": "python3"
    }
  },
  "nbformat": 4,
  "nbformat_minor": 0
}